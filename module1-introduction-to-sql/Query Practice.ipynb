{
 "cells": [
  {
   "cell_type": "code",
   "execution_count": 1,
   "metadata": {},
   "outputs": [],
   "source": [
    "import sqlite3"
   ]
  },
  {
   "cell_type": "code",
   "execution_count": 3,
   "metadata": {},
   "outputs": [],
   "source": [
    "conn = sqlite3.connect('rpg_db.sqlite3')"
   ]
  },
  {
   "cell_type": "code",
   "execution_count": 7,
   "metadata": {},
   "outputs": [
    {
     "name": "stdout",
     "output_type": "stream",
     "text": [
      "(302,)\n"
     ]
    }
   ],
   "source": [
    "cursor1 = conn.cursor()\n",
    "#Get a quick count of total characters\n",
    "cursor1.execute('SELECT COUNT(*) FROM charactercreator_character;')\n",
    "print(cursor1.fetchone())"
   ]
  },
  {
   "cell_type": "code",
   "execution_count": 10,
   "metadata": {
    "scrolled": true
   },
   "outputs": [
    {
     "name": "stdout",
     "output_type": "stream",
     "text": [
      "(75,)\n",
      "(108,)\n",
      "(68,)\n",
      "(51,)\n",
      "(11,)\n"
     ]
    }
   ],
   "source": [
    "#Only way I could think to get individual class counts\n",
    "cursor1.execute('SELECT COUNT(*) FROM charactercreator_cleric;')\n",
    "print(cursor1.fetchone())\n",
    "cursor1.execute('SELECT COUNT(*) FROM charactercreator_mage;')\n",
    "print(cursor1.fetchone())\n",
    "cursor1.execute('SELECT COUNT(*) FROM charactercreator_fighter;')\n",
    "print(cursor1.fetchone())\n",
    "cursor1.execute('SELECT COUNT(*) FROM charactercreator_thief;')\n",
    "print(cursor1.fetchone())\n",
    "cursor1.execute('SELECT COUNT(*) FROM charactercreator_necromancer;')\n",
    "print(cursor1.fetchone())"
   ]
  },
  {
   "cell_type": "code",
   "execution_count": 15,
   "metadata": {},
   "outputs": [
    {
     "name": "stdout",
     "output_type": "stream",
     "text": [
      "(174,)\n"
     ]
    }
   ],
   "source": [
    "#Count of total items available in game\n",
    "cursor1.execute('SELECT COUNT(*) FROM armory_item')\n",
    "print(cursor1.fetchone())"
   ]
  },
  {
   "cell_type": "code",
   "execution_count": 16,
   "metadata": {},
   "outputs": [
    {
     "name": "stdout",
     "output_type": "stream",
     "text": [
      "(37,)\n"
     ]
    }
   ],
   "source": [
    "#How many items are weapons\n",
    "cursor1.execute('SELECT COUNT(*) FROM armory_weapon')\n",
    "print(cursor1.fetchone()) #174-37 = 137 items are not weapons"
   ]
  },
  {
   "cell_type": "code",
   "execution_count": 23,
   "metadata": {},
   "outputs": [],
   "source": [
    "cursor1.close()"
   ]
  },
  {
   "cell_type": "code",
   "execution_count": 41,
   "metadata": {},
   "outputs": [
    {
     "data": {
      "text/plain": [
       "[3, 3, 2, 4, 4, 1, 5, 3, 4, 4, 3, 3, 4, 4, 4, 1, 5, 5, 3, 1]"
      ]
     },
     "execution_count": 41,
     "metadata": {},
     "output_type": "execute_result"
    }
   ],
   "source": [
    "cursor2 = conn.cursor()\n",
    "#Count for total number of items in each character's inventory\n",
    "cursor2.execute('''SELECT COUNT(*) FROM charactercreator_character_inventory\n",
    "                   INNER JOIN armory_item\n",
    "                   WHERE charactercreator_character_inventory.item_id = armory_item.item_id\n",
    "                   GROUP BY charactercreator_character_inventory.character_id\n",
    "                   LIMIT 20;''')\n",
    "\n",
    "item_list = []\n",
    "for item in cursor2.fetchall():\n",
    "    item_list.append(item[0])\n",
    "item_list"
   ]
  },
  {
   "cell_type": "code",
   "execution_count": 39,
   "metadata": {},
   "outputs": [
    {
     "data": {
      "text/plain": [
       "[2, 1, 1, 1, 1, 1, 1, 3, 2, 1, 1, 1, 2, 3, 2, 2, 2, 1, 1, 1]"
      ]
     },
     "execution_count": 39,
     "metadata": {},
     "output_type": "execute_result"
    }
   ],
   "source": [
    "cursor3 = conn.cursor()\n",
    "#Total weapons in each players' inventory\n",
    "cursor3.execute('''SELECT COUNT(*) FROM charactercreator_character_inventory\n",
    "                 INNER JOIN armory_weapon\n",
    "                 WHERE charactercreator_character_inventory.item_id = item_ptr_id\n",
    "                 GROUP BY charactercreator_character_inventory.character_id\n",
    "                 LIMIT 20;''')\n",
    "\n",
    "weap_list = []\n",
    "for weap in cursor3.fetchall():\n",
    "    weap_list.append(weap[0])\n",
    "weap_list"
   ]
  },
  {
   "cell_type": "code",
   "execution_count": 42,
   "metadata": {},
   "outputs": [
    {
     "name": "stdout",
     "output_type": "stream",
     "text": [
      "1.5 3.3\n"
     ]
    }
   ],
   "source": [
    "#I chose to put the above into lists because they were coming out\n",
    "#of the fetchall as tuples and I couldn't work with them\n",
    "weap_avg = sum(weap_list)/len(weap_list)\n",
    "item_avg = sum(item_list)/len(item_list)\n",
    "print(weap_avg, item_avg)"
   ]
  }
 ],
 "metadata": {
  "kernelspec": {
   "display_name": "Python 3",
   "language": "python",
   "name": "python3"
  },
  "language_info": {
   "codemirror_mode": {
    "name": "ipython",
    "version": 3
   },
   "file_extension": ".py",
   "mimetype": "text/x-python",
   "name": "python",
   "nbconvert_exporter": "python",
   "pygments_lexer": "ipython3",
   "version": "3.7.3"
  }
 },
 "nbformat": 4,
 "nbformat_minor": 2
}
